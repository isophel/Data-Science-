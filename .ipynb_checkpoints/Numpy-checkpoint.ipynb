{
 "cells": [
  {
   "cell_type": "code",
   "execution_count": 3,
   "metadata": {},
   "outputs": [
    {
     "data": {
      "text/plain": [
       "array([[ 0,  1,  2,  3,  4,  5,  6,  7,  8],\n",
       "       [ 9, 10, 11, 12, 13, 14, 15, 16, 17],\n",
       "       [18, 19, 20, 21, 22, 23, 24, 25, 26]])"
      ]
     },
     "execution_count": 3,
     "metadata": {},
     "output_type": "execute_result"
    }
   ],
   "source": [
    "import numpy\n",
    "n  = numpy.arange(27)\n",
    "n.reshape(3,9)"
   ]
  },
  {
   "cell_type": "code",
   "execution_count": null,
   "metadata": {},
   "outputs": [],
   "source": []
  },
  {
   "cell_type": "code",
   "execution_count": 4,
   "metadata": {},
   "outputs": [
    {
     "data": {
      "text/plain": [
       "array([[[ 0,  1,  2],\n",
       "        [ 3,  4,  5],\n",
       "        [ 6,  7,  8]],\n",
       "\n",
       "       [[ 9, 10, 11],\n",
       "        [12, 13, 14],\n",
       "        [15, 16, 17]],\n",
       "\n",
       "       [[18, 19, 20],\n",
       "        [21, 22, 23],\n",
       "        [24, 25, 26]]])"
      ]
     },
     "execution_count": 4,
     "metadata": {},
     "output_type": "execute_result"
    }
   ],
   "source": [
    "n.reshape(3,3,3)\n"
   ]
  },
  {
   "cell_type": "code",
   "execution_count": 3,
   "metadata": {},
   "outputs": [
    {
     "data": {
      "text/plain": [
       "array([[187, 158, 104, 121, 143],\n",
       "       [198, 125, 255, 255, 147],\n",
       "       [209, 134, 255,  97, 182]], dtype=uint8)"
      ]
     },
     "execution_count": 3,
     "metadata": {},
     "output_type": "execute_result"
    }
   ],
   "source": [
    "import cv2\n",
    "img = cv2.imread(\"smallgray.png\",0)\n",
    "img"
   ]
  },
  {
   "cell_type": "code",
   "execution_count": 5,
   "metadata": {},
   "outputs": [
    {
     "data": {
      "text/plain": [
       "array([[[187, 187, 187],\n",
       "        [158, 158, 158],\n",
       "        [104, 104, 104],\n",
       "        [121, 121, 121],\n",
       "        [143, 143, 143]],\n",
       "\n",
       "       [[198, 198, 198],\n",
       "        [125, 125, 125],\n",
       "        [255, 255, 255],\n",
       "        [255, 255, 255],\n",
       "        [147, 147, 147]],\n",
       "\n",
       "       [[209, 209, 209],\n",
       "        [134, 134, 134],\n",
       "        [255, 255, 255],\n",
       "        [ 97,  97,  97],\n",
       "        [182, 182, 182]]], dtype=uint8)"
      ]
     },
     "execution_count": 5,
     "metadata": {},
     "output_type": "execute_result"
    }
   ],
   "source": [
    "img2 = cv2.imread(\"smallgray.png\",1)\n",
    "img2\n",
    "#using BGR"
   ]
  },
  {
   "cell_type": "code",
   "execution_count": 11,
   "metadata": {},
   "outputs": [
    {
     "data": {
      "text/plain": [
       "True"
      ]
     },
     "execution_count": 11,
     "metadata": {},
     "output_type": "execute_result"
    }
   ],
   "source": [
    "cv2.imwrite(\"newsmallimage.png\",img)"
   ]
  },
  {
   "cell_type": "code",
   "execution_count": 10,
   "metadata": {},
   "outputs": [],
   "source": [
    "cv2.imwrite?\n"
   ]
  },
  {
   "cell_type": "code",
   "execution_count": 14,
   "metadata": {},
   "outputs": [
    {
     "data": {
      "text/plain": [
       "array([[187, 158, 104, 121, 143],\n",
       "       [198, 125, 255, 255, 147],\n",
       "       [209, 134, 255,  97, 182]], dtype=uint8)"
      ]
     },
     "execution_count": 14,
     "metadata": {},
     "output_type": "execute_result"
    }
   ],
   "source": [
    "img3 = cv2.imread(\"smallgray.png\",0)\n",
    "img3\n"
   ]
  },
  {
   "cell_type": "code",
   "execution_count": 15,
   "metadata": {},
   "outputs": [
    {
     "data": {
      "text/plain": [
       "182"
      ]
     },
     "execution_count": 15,
     "metadata": {},
     "output_type": "execute_result"
    }
   ],
   "source": [
    "img3[2,4]\n"
   ]
  },
  {
   "cell_type": "code",
   "execution_count": 16,
   "metadata": {},
   "outputs": [
    {
     "data": {
      "text/plain": [
       "array([[209, 134, 255,  97, 182]], dtype=uint8)"
      ]
     },
     "execution_count": 16,
     "metadata": {},
     "output_type": "execute_result"
    }
   ],
   "source": [
    "img3[2:4]"
   ]
  },
  {
   "cell_type": "code",
   "execution_count": 17,
   "metadata": {},
   "outputs": [
    {
     "name": "stdout",
     "output_type": "stream",
     "text": [
      "[187 158 104 121 143]\n",
      "[198 125 255 255 147]\n",
      "[209 134 255  97 182]\n"
     ]
    }
   ],
   "source": [
    "for i in img3:\n",
    "    print (i)"
   ]
  },
  {
   "cell_type": "code",
   "execution_count": 18,
   "metadata": {},
   "outputs": [
    {
     "name": "stdout",
     "output_type": "stream",
     "text": [
      "[187 198 209]\n",
      "[158 125 134]\n",
      "[104 255 255]\n",
      "[121 255  97]\n",
      "[143 147 182]\n"
     ]
    }
   ],
   "source": [
    "for i in img3.T:\n",
    "    print(i)"
   ]
  },
  {
   "cell_type": "code",
   "execution_count": 19,
   "metadata": {},
   "outputs": [
    {
     "name": "stdout",
     "output_type": "stream",
     "text": [
      "187\n",
      "158\n",
      "104\n",
      "121\n",
      "143\n",
      "198\n",
      "125\n",
      "255\n",
      "255\n",
      "147\n",
      "209\n",
      "134\n",
      "255\n",
      "97\n",
      "182\n"
     ]
    }
   ],
   "source": [
    "for i in img3.flat:\n",
    "    print(i)"
   ]
  },
  {
   "cell_type": "code",
   "execution_count": 22,
   "metadata": {},
   "outputs": [
    {
     "name": "stdout",
     "output_type": "stream",
     "text": [
      "[[187 158 104 121 143 187 158 104 121 143]\n",
      " [198 125 255 255 147 198 125 255 255 147]\n",
      " [209 134 255  97 182 209 134 255  97 182]]\n"
     ]
    }
   ],
   "source": [
    "import numpy\n",
    "ims = numpy.hstack((img3,img3))\n",
    "print(ims)"
   ]
  },
  {
   "cell_type": "code",
   "execution_count": 23,
   "metadata": {},
   "outputs": [
    {
     "name": "stdout",
     "output_type": "stream",
     "text": [
      "[[187 158 104 121 143]\n",
      " [198 125 255 255 147]\n",
      " [209 134 255  97 182]\n",
      " [187 158 104 121 143]\n",
      " [198 125 255 255 147]\n",
      " [209 134 255  97 182]]\n"
     ]
    }
   ],
   "source": [
    "import numpy\n",
    "ims = numpy.vstack((img3,img3))\n",
    "print(ims)"
   ]
  },
  {
   "cell_type": "code",
   "execution_count": 24,
   "metadata": {},
   "outputs": [
    {
     "name": "stdout",
     "output_type": "stream",
     "text": [
      "[array([[187],\n",
      "       [198],\n",
      "       [209],\n",
      "       [187],\n",
      "       [198],\n",
      "       [209]], dtype=uint8), array([[158],\n",
      "       [125],\n",
      "       [134],\n",
      "       [158],\n",
      "       [125],\n",
      "       [134]], dtype=uint8), array([[104],\n",
      "       [255],\n",
      "       [255],\n",
      "       [104],\n",
      "       [255],\n",
      "       [255]], dtype=uint8), array([[121],\n",
      "       [255],\n",
      "       [ 97],\n",
      "       [121],\n",
      "       [255],\n",
      "       [ 97]], dtype=uint8), array([[143],\n",
      "       [147],\n",
      "       [182],\n",
      "       [143],\n",
      "       [147],\n",
      "       [182]], dtype=uint8)]\n"
     ]
    }
   ],
   "source": [
    "lst = numpy.hsplit(ims,5)\n",
    "print(lst)"
   ]
  },
  {
   "cell_type": "code",
   "execution_count": 27,
   "metadata": {},
   "outputs": [
    {
     "data": {
      "text/plain": [
       "[array([[187, 158, 104, 121, 143],\n",
       "        [198, 125, 255, 255, 147]], dtype=uint8),\n",
       " array([[209, 134, 255,  97, 182],\n",
       "        [187, 158, 104, 121, 143]], dtype=uint8),\n",
       " array([[198, 125, 255, 255, 147],\n",
       "        [209, 134, 255,  97, 182]], dtype=uint8)]"
      ]
     },
     "execution_count": 27,
     "metadata": {},
     "output_type": "execute_result"
    }
   ],
   "source": [
    "lst = numpy.vsplit(ims,3)\n",
    "lst"
   ]
  },
  {
   "cell_type": "code",
   "execution_count": 5,
   "metadata": {},
   "outputs": [
    {
     "name": "stdout",
     "output_type": "stream",
     "text": [
      "[1 2 3 4 5]\n",
      "[[1 2 3 4 5]\n",
      " [1 2 3 4 5]]\n"
     ]
    }
   ],
   "source": [
    "import numpy as np\n",
    "# Creating 1-D array\n",
    "n_array = np.array([1,2,3,4,5])\n",
    "print(n_array)\n",
    "# Creating 2-D array\n",
    "n_array2 = np.array([[1,2,3,4,5],[1,2,3,4,5]])\n",
    "print(n_array2)"
   ]
  },
  {
   "cell_type": "code",
   "execution_count": 6,
   "metadata": {},
   "outputs": [
    {
     "name": "stdout",
     "output_type": "stream",
     "text": [
      "An Empty Array of size 5\n",
      "[ 1.48446484e-311  6.95281609e-310 -1.73858937e+036  1.48446484e-311\n",
      "  6.95281609e-310]\n",
      "An Array of only 1's of size 5\n",
      "[1. 1. 1. 1. 1.]\n",
      "An Array of only 0's of size 5\n",
      "[0. 0. 0. 0. 0.]\n",
      "An Identity Matrix Array of size 5\n",
      "[[1. 0. 0. 0. 0.]\n",
      " [0. 1. 0. 0. 0.]\n",
      " [0. 0. 1. 0. 0.]\n",
      " [0. 0. 0. 1. 0.]\n",
      " [0. 0. 0. 0. 1.]]\n",
      "Array populated with numbers from 2 to 50 with the difference of 3\n",
      "[ 2  5  8 11 14 17 20 23 26 29 32 35 38 41 44 47]\n"
     ]
    },
    {
     "data": {
      "text/plain": [
       "'np.empty(int n): Generates an empty 1-D array of size depending on the parameter n. Initially, this function fills the n size array with garbage values that can be overwritten later\\n\\nnp.ones(int n): Generates a 1-D array of only 1’s having length n\\n\\nnp.zeros(int n): Generates a 1-D array of only 0’s having length n\\n\\nnp.eye(int n): Generates a square identity matrix or a 2-D array of rows and columns having order n\\n\\nnp.arange(int start, int stop, int step): Generates an array containing elements from the start parameter to the end parameter (exclusive) with the difference of an amount equal to the step parameter'"
      ]
     },
     "execution_count": 6,
     "metadata": {},
     "output_type": "execute_result"
    }
   ],
   "source": [
    "import numpy as np\n",
    "\n",
    "print(\"An Empty Array of size 5\")\n",
    "print(np.empty(5)) # Generate empty array of size 5\n",
    "\n",
    "print(\"An Array of only 1's of size 5\")\n",
    "print(np.ones(5)) # Generate array containing only 1's of size 5\n",
    "\n",
    "print(\"An Array of only 0's of size 5\")\n",
    "print(np.zeros(5)) # Generate array containing only 0's of size 5\n",
    "\n",
    "print(\"An Identity Matrix Array of size 5\")\n",
    "print(np.eye(5)) # Generate identity matrix array of size 5\n",
    "\n",
    "print(\"Array populated with numbers from 2 to 50 with the difference of 3\")\n",
    "print(np.arange(2, 50, 3)) # Generate array with consecutive numbers\n",
    "\n",
    "#np.empty(int n): Generates an empty 1-D array of size depending on the parameter n. Initially, this function fills the n size array with garbage values that can be overwritten later\n",
    "\n",
    "#np.ones(int n): Generates a 1-D array of only 1’s having length n\n",
    "\n",
    "#np.zeros(int n): Generates a 1-D array of only 0’s having length n\n",
    "\n",
    "#np.eye(int n): Generates a square identity matrix or a 2-D array of rows and columns having order n\n",
    "\n",
    "#np.arange(int start, int stop, int step): Generates an array containing elements from the start parameter to the end parameter (exclusive) with the difference of an amount equal to the step parameter'''"
   ]
  },
  {
   "cell_type": "code",
   "execution_count": 7,
   "metadata": {},
   "outputs": [
    {
     "name": "stdout",
     "output_type": "stream",
     "text": [
      "The Array\n",
      "[0 1 2 3 4 5 6 7 8 9]\n",
      "\n",
      "Element at index 5\n",
      "5\n",
      "\n",
      "Elements in a range of 0 to 6\n",
      "[0 1 2 3 4 5]\n",
      "\n",
      "New array after changing elements in a range of 0 to 6\n",
      "[20 20 20 20 20 20  6  7  8  9]\n"
     ]
    }
   ],
   "source": [
    "#Numpy Indexing and slicing\n",
    "import numpy as np\n",
    "\n",
    "arr = np.arange(0,10,1) # Generate array with numbers from 0 to 9\n",
    "print(\"The Array\")\n",
    "print(arr)\n",
    "\n",
    "print(\"\\nElement at index 5\")\n",
    "print(arr[5]) # Fetch element at index 5\n",
    "\n",
    "print(\"\\nElements in a range of 0 to 6\")\n",
    "print(arr[0:6]) # Fetch elements in a range\n",
    "\n",
    "arr[0:6] = 20 # Assign a value to a range of elements\n",
    "print(\"\\nNew array after changing elements in a range of 0 to 6\")\n",
    "print(arr)\n"
   ]
  },
  {
   "cell_type": "code",
   "execution_count": 8,
   "metadata": {},
   "outputs": [
    {
     "name": "stdout",
     "output_type": "stream",
     "text": [
      "The Array\n",
      "[0 1 2 3 4 5 6 7 8 9]\n",
      "\n",
      "The new sliced array\n",
      "[1 2 3 4 5 6]\n",
      "\n",
      "The new sliced array with all elements\n",
      "[0 1 2 3 4 5 6 7 8 9]\n"
     ]
    }
   ],
   "source": [
    "import numpy as np\n",
    "\n",
    "arr = np.arange(0,10,1)\n",
    "print(\"The Array\")\n",
    "print(arr)\n",
    "\n",
    "new_arr1 = arr[1:7] # This command selects a range of elements from the array\n",
    "print(\"\\nThe new sliced array\")\n",
    "print(new_arr1)\n",
    "\n",
    "new_arr2 = arr[:] # This command selects all elements in the array\n",
    "print(\"\\nThe new sliced array with all elements\")\n",
    "print(new_arr2)"
   ]
  },
  {
   "cell_type": "code",
   "execution_count": 9,
   "metadata": {},
   "outputs": [
    {
     "name": "stdout",
     "output_type": "stream",
     "text": [
      "The Array\n",
      "[[1 2 3]\n",
      " [4 5 6]\n",
      " [7 8 9]]\n",
      "\n",
      "Element at row 0 and column 1\n",
      "2\n",
      "\n",
      "Elements in a range of last two rows & columns\n",
      "[[5 6]\n",
      " [8 9]]\n",
      "\n",
      "New 2D array after changing last two rows & columns values\n",
      "[[ 1  2  3]\n",
      " [ 4 20 20]\n",
      " [ 7 20 20]]\n"
     ]
    }
   ],
   "source": [
    "import numpy as np\n",
    "# Declare a 2-D array\n",
    "arr2d = np.array([\n",
    "  [1, 2, 3],\n",
    "  [4, 5, 6],\n",
    "  [7, 8, 9]\n",
    "])\n",
    "print(\"The Array\")\n",
    "print(arr2d)\n",
    "\n",
    "print(\"\\nElement at row 0 and column 1\")\n",
    "print(arr2d[0][1])\n",
    "\n",
    "print(\"\\nElements in a range of last two rows & columns\")\n",
    "print(arr2d[1:3, 1:3])\n",
    "\n",
    "arr2d[1:3, 1:3] = 20\n",
    "print(\"\\nNew 2D array after changing last two rows & columns values\")\n",
    "print(arr2d)\n",
    "\n",
    "'''\n",
    "The : inside the [] works the same way as in the 1-D array,\n",
    "but now we can give both the row and column numbers. This arr2d[1:3, 1:3] command \n",
    "before the , selects the rows starting from 1 to 3 (exclusive) and after \n",
    "the , selects the columns starting from 1 to 3 (exclusive).\n",
    "'''"
   ]
  },
  {
   "cell_type": "code",
   "execution_count": 10,
   "metadata": {},
   "outputs": [
    {
     "name": "stdout",
     "output_type": "stream",
     "text": [
      "The Array\n",
      "[[1 2 3]\n",
      " [4 5 6]\n",
      " [7 8 9]]\n",
      "\n",
      "The new sliced array\n",
      "[[4 5]\n",
      " [7 8]]\n",
      "\n",
      "The new sliced column\n",
      "[[2]\n",
      " [5]\n",
      " [8]]\n"
     ]
    }
   ],
   "source": [
    "#slicing a 2-D array\n",
    "import numpy as np\n",
    "# Declare a 2-D array\n",
    "arr2d = np.array([\n",
    "  [1, 2, 3],\n",
    "  [4, 5, 6],\n",
    "  [7, 8, 9]\n",
    "])\n",
    "print(\"The Array\")\n",
    "print(arr2d)\n",
    "\n",
    "print(\"\\nThe new sliced array\")\n",
    "print(arr2d[1:3, 0:2])\n",
    "\n",
    "print(\"\\nThe new sliced column\")\n",
    "print(arr2d[:, 1:2])\n",
    "\n",
    "'''\n",
    "In the above examples, the lower-left half and the middle column are sliced from the 2-D array. \n",
    "Inside the [], the range on the left of , decides the rows to be included, and the range on the \n",
    "right of , decides the columns to be included.\n",
    "\n",
    "In the first example, the last two rows and the first two columns are selected.\n",
    "The second example selects all the rows, and only the center column to get the values of the middle column.\n",
    "\n",
    "'''\n"
   ]
  },
  {
   "cell_type": "code",
   "execution_count": null,
   "metadata": {},
   "outputs": [],
   "source": []
  }
 ],
 "metadata": {
  "kernelspec": {
   "display_name": "Python 3",
   "language": "python",
   "name": "python3"
  },
  "language_info": {
   "codemirror_mode": {
    "name": "ipython",
    "version": 3
   },
   "file_extension": ".py",
   "mimetype": "text/x-python",
   "name": "python",
   "nbconvert_exporter": "python",
   "pygments_lexer": "ipython3",
   "version": "3.8.3"
  }
 },
 "nbformat": 4,
 "nbformat_minor": 4
}
